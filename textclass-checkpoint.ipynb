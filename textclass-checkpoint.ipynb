{
 "cells": [
  {
   "cell_type": "code",
   "execution_count": 2,
   "id": "3092088b-e882-4bc1-859c-be2c9f49b8ef",
   "metadata": {},
   "outputs": [
    {
     "name": "stderr",
     "output_type": "stream",
     "text": [
      "C:\\Users\\hp\\anaconda3\\envs\\tf-env\\lib\\site-packages\\tqdm\\auto.py:21: TqdmWarning: IProgress not found. Please update jupyter and ipywidgets. See https://ipywidgets.readthedocs.io/en/stable/user_install.html\n",
      "  from .autonotebook import tqdm as notebook_tqdm\n"
     ]
    },
    {
     "name": "stdout",
     "output_type": "stream",
     "text": [
      "WARNING:tensorflow:From C:\\Users\\hp\\anaconda3\\envs\\tf-env\\lib\\site-packages\\tf_keras\\src\\losses.py:2976: The name tf.losses.sparse_softmax_cross_entropy is deprecated. Please use tf.compat.v1.losses.sparse_softmax_cross_entropy instead.\n",
      "\n"
     ]
    }
   ],
   "source": [
    "import numpy as np\n",
    "from datasets import Dataset,DatasetDict,load_dataset\n",
    "from transformers import Trainer,TrainingArguments,AutoTokenizer,AutoModelForSequenceClassification,DataCollatorWithPadding\n",
    "import evaluate"
   ]
  },
  {
   "cell_type": "code",
   "execution_count": 3,
   "id": "13b065a3-ef12-43ac-8d42-74537999bfac",
   "metadata": {},
   "outputs": [],
   "source": [
    "dataset_dict=load_dataset(\"sh0416/ag_news\",streaming=True)"
   ]
  },
  {
   "cell_type": "code",
   "execution_count": 4,
   "id": "6cfc1478-c8f8-4c26-ba0f-59b331cada6c",
   "metadata": {},
   "outputs": [],
   "source": [
    "tokenizer=AutoTokenizer.from_pretrained(\"bert-base-uncased\")\n",
    "def norms(example):\n",
    "    example['label']=example['label']-1\n",
    "    return example"
   ]
  },
  {
   "cell_type": "code",
   "execution_count": 5,
   "id": "2c5d7329-045b-42c0-b9e2-c212dcf7ee46",
   "metadata": {},
   "outputs": [
    {
     "name": "stderr",
     "output_type": "stream",
     "text": [
      "Some weights of BertForSequenceClassification were not initialized from the model checkpoint at bert-base-uncased and are newly initialized: ['classifier.bias', 'classifier.weight']\n",
      "You should probably TRAIN this model on a down-stream task to be able to use it for predictions and inference.\n"
     ]
    }
   ],
   "source": [
    "label2id={\"World\":0,\"Sports\":1,\"Business\":2,\"Sci/Tech\":3}\n",
    "id2label={0:\"World\",1:\"Sports\",2:\"Business\",3:\"Sci/Tech\"}\n",
    "\n",
    "classification=AutoModelForSequenceClassification.from_pretrained(\"bert-base-uncased\",num_labels=4,label2id=label2id,id2label=id2label)"
   ]
  },
  {
   "cell_type": "code",
   "execution_count": 6,
   "id": "03e0cb37-0903-4862-a179-e05b8de1f804",
   "metadata": {},
   "outputs": [],
   "source": [
    "for name, param in classification.base_model.named_parameters():\n",
    "    param.requires_grad=False\n",
    "for name, param in classification.base_model.named_parameters():\n",
    "    if \"pooler\" in name:\n",
    "     param.requires_grad=True  "
   ]
  },
  {
   "cell_type": "code",
   "execution_count": 7,
   "id": "50322406-a715-427b-95ac-077daeec5e21",
   "metadata": {},
   "outputs": [],
   "source": [
    "def preprocess(examples):\n",
    "    return tokenizer(examples[\"title\"],truncation=True)\n",
    "\n",
    "dat=dataset_dict.map(preprocess,batched=True)\n",
    "dat=dat.map(norms)\n",
    "dats=DataCollatorWithPadding(tokenizer= tokenizer)"
   ]
  },
  {
   "cell_type": "code",
   "execution_count": 8,
   "id": "528f2e35-f23f-461c-9a70-9d57c0823ce6",
   "metadata": {},
   "outputs": [],
   "source": [
    "acc=evaluate.load('accuracy')\n",
    "f1=evaluate.load('f1')\n",
    "def pred(eval_pred):\n",
    "    prediction,label=eval_pred\n",
    "    probabilities=np.exp(prediction)/np.exp(prediction).sum(-1,keepdims=True)\n",
    "    ap=np.argmax(probabilities,axis=1)\n",
    "    accuracy=acc.compute(predictions=ap,references=label)\n",
    "    F1s=f1.compute(predictions=ap,references=label,average='macro')\n",
    "    auu=round(accuracy['accuracy'],3)\n",
    "    au=round(F1s['f1'],3)\n",
    "    print('accuracy:',auu)\n",
    "    print('F1:',au)\n",
    "    return{'accuracy':auu,'F1':au}"
   ]
  },
  {
   "cell_type": "code",
   "execution_count": 25,
   "id": "34f1d8b0-672a-4cce-bbdd-941da27ae3f2",
   "metadata": {},
   "outputs": [],
   "source": [
    "l=2e-4\n",
    "batch=8\n",
    "eps=10\n",
    "training_args=TrainingArguments(\n",
    "    output_dir=\"berts_new\",\n",
    "    save_safetensors=False,\n",
    "    learning_rate=l,\n",
    "    per_device_train_batch_size=batch, \n",
    "    per_device_eval_batch_size=batch,\n",
    "    num_train_epochs=eps,\n",
    "    eval_strategy='epoch',\n",
    "    logging_strategy='epoch',\n",
    "    save_strategy='epoch',\n",
    "    load_best_model_at_end=True,\n",
    "    max_steps=1000\n",
    "    \n",
    "    \n",
    ")"
   ]
  },
  {
   "cell_type": "code",
   "execution_count": 19,
   "id": "faf731a0-42b1-477c-b8ef-e47edb9f5425",
   "metadata": {},
   "outputs": [
    {
     "name": "stderr",
     "output_type": "stream",
     "text": [
      "C:\\Users\\hp\\AppData\\Local\\Temp\\ipykernel_13568\\4004253541.py:1: FutureWarning: `tokenizer` is deprecated and will be removed in version 5.0.0 for `Trainer.__init__`. Use `processing_class` instead.\n",
      "  trainer=Trainer(\n",
      "C:\\Users\\hp\\anaconda3\\envs\\tf-env\\lib\\site-packages\\torch\\utils\\data\\dataloader.py:666: UserWarning: 'pin_memory' argument is set as true but no accelerator is found, then device pinned memory won't be used.\n",
      "  warnings.warn(warn_msg)\n"
     ]
    },
    {
     "data": {
      "text/html": [
       "\n",
       "    <div>\n",
       "      \n",
       "      <progress value='1000' max='1000' style='width:300px; height:20px; vertical-align: middle;'></progress>\n",
       "      [1000/1000 15:49, Epoch 1/9223372036854775807]\n",
       "    </div>\n",
       "    <table border=\"1\" class=\"dataframe\">\n",
       "  <thead>\n",
       " <tr style=\"text-align: left;\">\n",
       "      <th>Epoch</th>\n",
       "      <th>Training Loss</th>\n",
       "      <th>Validation Loss</th>\n",
       "      <th>Accuracy</th>\n",
       "      <th>F1</th>\n",
       "    </tr>\n",
       "  </thead>\n",
       "  <tbody>\n",
       "    <tr>\n",
       "      <td>1</td>\n",
       "      <td>0.683700</td>\n",
       "      <td>0.624123</td>\n",
       "      <td>0.777000</td>\n",
       "      <td>0.775000</td>\n",
       "    </tr>\n",
       "  </tbody>\n",
       "</table><p>"
      ],
      "text/plain": [
       "<IPython.core.display.HTML object>"
      ]
     },
     "metadata": {},
     "output_type": "display_data"
    },
    {
     "name": "stdout",
     "output_type": "stream",
     "text": [
      "accuracy: 0.777\n",
      "F1: 0.775\n"
     ]
    },
    {
     "data": {
      "text/plain": [
       "TrainOutput(global_step=1000, training_loss=0.6837337036132812, metrics={'train_runtime': 960.702, 'train_samples_per_second': 8.327, 'train_steps_per_second': 1.041, 'total_flos': 72455507943936.0, 'train_loss': 0.6837337036132812, 'epoch': 1.0})"
      ]
     },
     "execution_count": 19,
     "metadata": {},
     "output_type": "execute_result"
    }
   ],
   "source": [
    "trainer=Trainer(\n",
    "    model=classification,\n",
    "    args=training_args, \n",
    "    data_collator=dats,\n",
    "    tokenizer=tokenizer,\n",
    "    compute_metrics=pred,\n",
    "    train_dataset=dat['train'],\n",
    "    eval_dataset=dat['test'],\n",
    ")\n",
    "trainer.train()"
   ]
  },
  {
   "cell_type": "code",
   "execution_count": 11,
   "id": "dfd7c495-f0ab-4877-901d-13e3bf7a0c7c",
   "metadata": {},
   "outputs": [
    {
     "name": "stderr",
     "output_type": "stream",
     "text": [
      "C:\\Users\\hp\\anaconda3\\envs\\tf-env\\lib\\site-packages\\torch\\utils\\data\\dataloader.py:666: UserWarning: 'pin_memory' argument is set as true but no accelerator is found, then device pinned memory won't be used.\n",
      "  warnings.warn(warn_msg)\n"
     ]
    },
    {
     "name": "stdout",
     "output_type": "stream",
     "text": [
      "accuracy: 0.77\n",
      "F1: 0.768\n"
     ]
    },
    {
     "data": {
      "text/plain": [
       "{'eval_loss': 0.6337381601333618,\n",
       " 'eval_accuracy': 0.77,\n",
       " 'eval_F1': 0.768,\n",
       " 'eval_runtime': 323.6095,\n",
       " 'eval_samples_per_second': 23.485,\n",
       " 'eval_steps_per_second': 2.936,\n",
       " 'epoch': 1.0}"
      ]
     },
     "execution_count": 11,
     "metadata": {},
     "output_type": "execute_result"
    }
   ],
   "source": [
    "trainer.evaluate()"
   ]
  },
  {
   "cell_type": "code",
   "execution_count": 35,
   "id": "6282f9bf-87cb-4b0f-a1bc-132059cdb1b5",
   "metadata": {},
   "outputs": [
    {
     "data": {
      "text/plain": [
       "('berts_v123\\\\tokenizer_config.json',\n",
       " 'berts_v123\\\\special_tokens_map.json',\n",
       " 'berts_v123\\\\vocab.txt',\n",
       " 'berts_v123\\\\added_tokens.json',\n",
       " 'berts_v123\\\\tokenizer.json')"
      ]
     },
     "execution_count": 35,
     "metadata": {},
     "output_type": "execute_result"
    }
   ],
   "source": [
    "import os\n",
    "os.environ['SAFE_SERIALIZATION']=\"false\"\n",
    "import shutil\n",
    "if os.path.exists('bert_v123'):\n",
    "    shutil.rmtree('bert_v123')\n",
    "    time.sleep(1)\n",
    "classification.save_pretrained('berts_v123')\n",
    "tokenizer.save_pretrained('berts_v123')"
   ]
  },
  {
   "cell_type": "code",
   "execution_count": null,
   "id": "b02c4613-b65f-4278-bbb0-3323954b757a",
   "metadata": {},
   "outputs": [],
   "source": []
  }
 ],
 "metadata": {
  "kernelspec": {
   "display_name": "Python [conda env:tf-env]",
   "language": "python",
   "name": "conda-env-tf-env-py"
  },
  "language_info": {
   "codemirror_mode": {
    "name": "ipython",
    "version": 3
   },
   "file_extension": ".py",
   "mimetype": "text/x-python",
   "name": "python",
   "nbconvert_exporter": "python",
   "pygments_lexer": "ipython3",
   "version": "3.10.18"
  }
 },
 "nbformat": 4,
 "nbformat_minor": 5
}
