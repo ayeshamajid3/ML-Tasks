{
 "cells": [
  {
   "cell_type": "code",
   "execution_count": 42,
   "id": "c368bcaa-a6ed-4daf-a88a-5bb5bd123dcd",
   "metadata": {},
   "outputs": [],
   "source": [
    "import numpy as np\n",
    "from datasets import Dataset,DatasetDict,load_dataset\n",
    "from transformers import Trainer,TrainingArguments,AutoTokenizer,AutoModelForSequenceClassification,DataCollatorWithPadding,AutoConfig\n",
    "import evaluate"
   ]
  },
  {
   "cell_type": "code",
   "execution_count": 43,
   "id": "c0df636c-8f54-4e74-b20f-89a0a780ccc9",
   "metadata": {},
   "outputs": [],
   "source": [
    "dataset_dict=load_dataset(\"bitext/Bitext-events-ticketing-llm-chatbot-training-dataset\")\n",
    "\n",
    "tokenizer=AutoTokenizer.from_pretrained(\"bert-base-uncased\")\n",
    "\n",
    "label2id={\"CANCELLATIONS\":0,\"CONTACT\":1,\"DELIVERY\":2,\"EVENTS\":3,\"PAYMENT\":4,\"POLICY\":5,\"REFUNDS\":6,\"TICKETS\":7}\n",
    "id2label={0:\"CANCELLATIONS\",1:\"CONTACT\",2:\"DELIVERY\",3:\"EVENTS\",4:\"PAYMENT\",5:\"POLICY\",6:\"REFUNDS\",7:\"TICKETS\"}\n",
    "\n",
    "def norms(example):\n",
    "    example['label']=label2id[example['category']]\n",
    "    return example\n",
    "\n",
    "\n"
   ]
  },
  {
   "cell_type": "code",
   "execution_count": 44,
   "id": "b402c85f-be7f-4896-b615-04f2e3a5d864",
   "metadata": {},
   "outputs": [
    {
     "name": "stderr",
     "output_type": "stream",
     "text": [
      "Some weights of BertForSequenceClassification were not initialized from the model checkpoint at bert-base-uncased and are newly initialized: ['classifier.bias', 'classifier.weight']\n",
      "You should probably TRAIN this model on a down-stream task to be able to use it for predictions and inference.\n"
     ]
    }
   ],
   "source": [
    "num_labels=8\n",
    "classification=AutoModelForSequenceClassification.from_pretrained(\"bert-base-uncased\",num_labels=num_labels,label2id=label2id,id2label=id2label,ignore_mismatched_sizes=True)\n",
    "\n",
    "for name, param in classification.base_model.named_parameters():\n",
    "    param.requires_grad=False\n",
    "for name, param in classification.base_model.named_parameters():\n",
    "    if \"pooler\" in name:\n",
    "     param.requires_grad=True"
   ]
  },
  {
   "cell_type": "code",
   "execution_count": 45,
   "id": "3adaeb97-7ef8-46d1-94b4-acb99b606cc5",
   "metadata": {},
   "outputs": [
    {
     "name": "stdout",
     "output_type": "stream",
     "text": [
      "DatasetDict({\n",
      "    train: Dataset({\n",
      "        features: ['instruction', 'intent', 'category', 'tags', 'response', 'input_ids', 'token_type_ids', 'attention_mask', 'label'],\n",
      "        num_rows: 19761\n",
      "    })\n",
      "    test: Dataset({\n",
      "        features: ['instruction', 'intent', 'category', 'tags', 'response', 'input_ids', 'token_type_ids', 'attention_mask', 'label'],\n",
      "        num_rows: 4941\n",
      "    })\n",
      "})\n"
     ]
    }
   ],
   "source": [
    "def preprocess(examples):\n",
    "    return tokenizer(examples[\"instruction\"],truncation=True)\n",
    "\n",
    "dat=dataset_dict.map(preprocess,batched=True)\n",
    "dat=dat.map(norms)\n",
    "dat=dat['train'].train_test_split(test_size=0.2,seed=42)\n",
    "dats=DataCollatorWithPadding(tokenizer= tokenizer)\n",
    "print(dat)"
   ]
  },
  {
   "cell_type": "code",
   "execution_count": 46,
   "id": "3d1f49cd-98bf-4745-9160-c47d8a311ce5",
   "metadata": {},
   "outputs": [],
   "source": [
    "acc=evaluate.load('accuracy')\n",
    "f1=evaluate.load('f1')\n",
    "def pred(eval_pred):\n",
    "    prediction,label=eval_pred\n",
    "    probabilities=np.exp(prediction)/np.exp(prediction).sum(-1,keepdims=True)\n",
    "    ap=np.argmax(probabilities,axis=1)\n",
    "    accuracy=acc.compute(predictions=ap,references=label)\n",
    "    F1s=f1.compute(predictions=ap,references=label,average='macro')\n",
    "    auu=round(accuracy['accuracy'],3)\n",
    "    au=round(F1s['f1'],3)\n",
    "    print('accuracy:',auu)\n",
    "    print('F1:',au)\n",
    "    return{'accuracy':auu,'F1':au}\n"
   ]
  },
  {
   "cell_type": "code",
   "execution_count": 47,
   "id": "6fd67734-d151-4041-a39e-53c15c704b1d",
   "metadata": {},
   "outputs": [],
   "source": [
    "l=2e-4\n",
    "batch=4\n",
    "eps=10\n",
    "training_args=TrainingArguments(\n",
    "    output_dir=\"berts\",\n",
    "    save_safetensors=False,\n",
    "    learning_rate=l,\n",
    "    per_device_train_batch_size=batch, \n",
    "    per_device_eval_batch_size=batch,\n",
    "    num_train_epochs=eps,\n",
    "    eval_strategy='epoch',\n",
    "    logging_strategy='epoch',\n",
    "    save_strategy='epoch',\n",
    "    load_best_model_at_end=True,\n",
    "    max_steps=1000\n",
    "    \n",
    "    \n",
    ")"
   ]
  },
  {
   "cell_type": "code",
   "execution_count": 48,
   "id": "3d63ad21-9055-4d97-bd9e-ad873eada5a3",
   "metadata": {},
   "outputs": [
    {
     "name": "stderr",
     "output_type": "stream",
     "text": [
      "C:\\Users\\hp\\anaconda3\\envs\\tf-env\\lib\\site-packages\\torch\\utils\\data\\dataloader.py:666: UserWarning: 'pin_memory' argument is set as true but no accelerator is found, then device pinned memory won't be used.\n",
      "  warnings.warn(warn_msg)\n"
     ]
    },
    {
     "data": {
      "text/html": [
       "\n",
       "    <div>\n",
       "      \n",
       "      <progress value='1000' max='1000' style='width:300px; height:20px; vertical-align: middle;'></progress>\n",
       "      [1000/1000 14:24, Epoch 0/1]\n",
       "    </div>\n",
       "    <table border=\"1\" class=\"dataframe\">\n",
       "  <thead>\n",
       " <tr style=\"text-align: left;\">\n",
       "      <th>Epoch</th>\n",
       "      <th>Training Loss</th>\n",
       "      <th>Validation Loss</th>\n",
       "      <th>Accuracy</th>\n",
       "      <th>F1</th>\n",
       "    </tr>\n",
       "  </thead>\n",
       "  <tbody>\n",
       "    <tr>\n",
       "      <td>0</td>\n",
       "      <td>1.239400</td>\n",
       "      <td>0.790495</td>\n",
       "      <td>0.778000</td>\n",
       "      <td>0.698000</td>\n",
       "    </tr>\n",
       "  </tbody>\n",
       "</table><p>"
      ],
      "text/plain": [
       "<IPython.core.display.HTML object>"
      ]
     },
     "metadata": {},
     "output_type": "display_data"
    },
    {
     "name": "stdout",
     "output_type": "stream",
     "text": [
      "accuracy: 0.778\n",
      "F1: 0.698\n"
     ]
    },
    {
     "name": "stderr",
     "output_type": "stream",
     "text": [
      "C:\\Users\\hp\\anaconda3\\envs\\tf-env\\lib\\site-packages\\torch\\utils\\data\\dataloader.py:666: UserWarning: 'pin_memory' argument is set as true but no accelerator is found, then device pinned memory won't be used.\n",
      "  warnings.warn(warn_msg)\n"
     ]
    },
    {
     "data": {
      "text/html": [
       "\n",
       "    <div>\n",
       "      \n",
       "      <progress value='1236' max='1236' style='width:300px; height:20px; vertical-align: middle;'></progress>\n",
       "      [1236/1236 05:00]\n",
       "    </div>\n",
       "    "
      ],
      "text/plain": [
       "<IPython.core.display.HTML object>"
      ]
     },
     "metadata": {},
     "output_type": "display_data"
    },
    {
     "name": "stdout",
     "output_type": "stream",
     "text": [
      "accuracy: 0.778\n",
      "F1: 0.698\n"
     ]
    },
    {
     "data": {
      "text/plain": [
       "{'eval_loss': 0.7904946208000183,\n",
       " 'eval_accuracy': 0.778,\n",
       " 'eval_F1': 0.698,\n",
       " 'eval_runtime': 301.4008,\n",
       " 'eval_samples_per_second': 16.393,\n",
       " 'eval_steps_per_second': 4.101,\n",
       " 'epoch': 0.20238818053025703}"
      ]
     },
     "execution_count": 48,
     "metadata": {},
     "output_type": "execute_result"
    }
   ],
   "source": [
    "trainer=Trainer(\n",
    "    model=classification,\n",
    "    args=training_args,\n",
    "    data_collator=dats,\n",
    "    processing_class=tokenizer,\n",
    "    compute_metrics=pred,\n",
    "    train_dataset=dat['train'],\n",
    "    eval_dataset=dat['test'],\n",
    ")\n",
    "trainer.train()\n",
    "\n",
    "trainer.evaluate()"
   ]
  },
  {
   "cell_type": "code",
   "execution_count": 49,
   "id": "b367107f-265b-4f4b-a335-c3d711f92077",
   "metadata": {},
   "outputs": [
    {
     "data": {
      "text/plain": [
       "('berts\\\\tokenizer_config.json',\n",
       " 'berts\\\\special_tokens_map.json',\n",
       " 'berts\\\\vocab.txt',\n",
       " 'berts\\\\added_tokens.json',\n",
       " 'berts\\\\tokenizer.json')"
      ]
     },
     "execution_count": 49,
     "metadata": {},
     "output_type": "execute_result"
    }
   ],
   "source": [
    "trainer.save_model('berts')\n",
    "model=trainer.model\n",
    "model.save_pretrained('berts',safe_serialization=False)\n",
    "tokenizer.save_pretrained('berts')"
   ]
  },
  {
   "cell_type": "code",
   "execution_count": 12,
   "id": "3324f643-6764-4829-b654-aaf024d0c14c",
   "metadata": {},
   "outputs": [
    {
     "name": "stderr",
     "output_type": "stream",
     "text": [
      "Some weights of BertForSequenceClassification were not initialized from the model checkpoint at berts and are newly initialized because the shapes did not match:\n",
      "- classifier.bias: found shape torch.Size([4]) in the checkpoint and torch.Size([8]) in the model instantiated\n",
      "- classifier.weight: found shape torch.Size([4, 768]) in the checkpoint and torch.Size([8, 768]) in the model instantiated\n",
      "You should probably TRAIN this model on a down-stream task to be able to use it for predictions and inference.\n"
     ]
    },
    {
     "data": {
      "text/plain": [
       "BertForSequenceClassification(\n",
       "  (bert): BertModel(\n",
       "    (embeddings): BertEmbeddings(\n",
       "      (word_embeddings): Embedding(30522, 768, padding_idx=0)\n",
       "      (position_embeddings): Embedding(512, 768)\n",
       "      (token_type_embeddings): Embedding(2, 768)\n",
       "      (LayerNorm): LayerNorm((768,), eps=1e-12, elementwise_affine=True)\n",
       "      (dropout): Dropout(p=0.1, inplace=False)\n",
       "    )\n",
       "    (encoder): BertEncoder(\n",
       "      (layer): ModuleList(\n",
       "        (0-11): 12 x BertLayer(\n",
       "          (attention): BertAttention(\n",
       "            (self): BertSdpaSelfAttention(\n",
       "              (query): Linear(in_features=768, out_features=768, bias=True)\n",
       "              (key): Linear(in_features=768, out_features=768, bias=True)\n",
       "              (value): Linear(in_features=768, out_features=768, bias=True)\n",
       "              (dropout): Dropout(p=0.1, inplace=False)\n",
       "            )\n",
       "            (output): BertSelfOutput(\n",
       "              (dense): Linear(in_features=768, out_features=768, bias=True)\n",
       "              (LayerNorm): LayerNorm((768,), eps=1e-12, elementwise_affine=True)\n",
       "              (dropout): Dropout(p=0.1, inplace=False)\n",
       "            )\n",
       "          )\n",
       "          (intermediate): BertIntermediate(\n",
       "            (dense): Linear(in_features=768, out_features=3072, bias=True)\n",
       "            (intermediate_act_fn): GELUActivation()\n",
       "          )\n",
       "          (output): BertOutput(\n",
       "            (dense): Linear(in_features=3072, out_features=768, bias=True)\n",
       "            (LayerNorm): LayerNorm((768,), eps=1e-12, elementwise_affine=True)\n",
       "            (dropout): Dropout(p=0.1, inplace=False)\n",
       "          )\n",
       "        )\n",
       "      )\n",
       "    )\n",
       "    (pooler): BertPooler(\n",
       "      (dense): Linear(in_features=768, out_features=768, bias=True)\n",
       "      (activation): Tanh()\n",
       "    )\n",
       "  )\n",
       "  (dropout): Dropout(p=0.1, inplace=False)\n",
       "  (classifier): Linear(in_features=768, out_features=8, bias=True)\n",
       ")"
      ]
     },
     "execution_count": 12,
     "metadata": {},
     "output_type": "execute_result"
    }
   ],
   "source": [
    "model_path='berts'\n",
    "config=AutoConfig.from_pretrained(model_path,num_labels=8)\n",
    "tokenizer=AutoTokenizer.from_pretrained(model_path,config=config)\n",
    "classification=AutoModelForSequenceClassification.from_pretrained(model_path,config=config,ignore_mismatched_sizes=True)\n",
    "classification.eval()\n"
   ]
  },
  {
   "cell_type": "code",
   "execution_count": 62,
   "id": "632d9fe5-aa61-4cfc-a997-99877afbbf79",
   "metadata": {},
   "outputs": [],
   "source": [
    "import torch\n",
    "def rec(text):\n",
    "    input=tokenizer(text,return_tensors='pt',truncation=True,padding=True)\n",
    "    with torch.no_grad():\n",
    "     output=classification(**input)\n",
    "     probab=torch.nn.functional.softmax(output.logits,dim=-1).numpy()[0]\n",
    "     actual=torch.argmax(output.logits,dim=-1).item()\n",
    "     acc=id2label[actual]\n",
    "     top3=np.argsort(-probab)[:3]\n",
    "     print('predicted class:')\n",
    "     for idx in top3:\n",
    "       idx=int(idx)\n",
    "       print(f\"{id2label[idx]}:{probab[idx]:.3f}\")\n",
    "     \n",
    "     print('actual pred:',acc)"
   ]
  },
  {
   "cell_type": "code",
   "execution_count": 63,
   "id": "d234a334-62b9-416e-a6c3-c2bce9209d66",
   "metadata": {},
   "outputs": [
    {
     "name": "stdin",
     "output_type": "stream",
     "text": [
      "enter your ticket= I'd like to send an email to client service could uhelp me\n"
     ]
    },
    {
     "name": "stdout",
     "output_type": "stream",
     "text": [
      "predicted class:\n",
      "CONTACT:0.590\n",
      "CANCELLATIONS:0.201\n",
      "POLICY:0.059\n",
      "actual pred: CONTACT\n"
     ]
    }
   ],
   "source": [
    "text=input(\"enter your ticket=\")\n",
    "rec(text)"
   ]
  },
  {
   "cell_type": "code",
   "execution_count": null,
   "id": "589eed2d-ee7d-4c81-a481-afca22421f2d",
   "metadata": {},
   "outputs": [],
   "source": []
  }
 ],
 "metadata": {
  "kernelspec": {
   "display_name": "Python [conda env:tf-env]",
   "language": "python",
   "name": "conda-env-tf-env-py"
  },
  "language_info": {
   "codemirror_mode": {
    "name": "ipython",
    "version": 3
   },
   "file_extension": ".py",
   "mimetype": "text/x-python",
   "name": "python",
   "nbconvert_exporter": "python",
   "pygments_lexer": "ipython3",
   "version": "3.10.18"
  }
 },
 "nbformat": 4,
 "nbformat_minor": 5
}
